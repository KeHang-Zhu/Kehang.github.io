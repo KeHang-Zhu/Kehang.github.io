{
 "cells": [
  {
   "cell_type": "code",
   "execution_count": 5,
   "id": "f52b05b8",
   "metadata": {},
   "outputs": [
    {
     "name": "stdout",
     "output_type": "stream",
     "text": [
      "125\n"
     ]
    }
   ],
   "source": [
    "count = 0\n",
    "\n",
    "for i1 in range(1,7):\n",
    "    for i2 in range(1,7):\n",
    "        for i3 in range(1,7):\n",
    "            for i4 in range(1,7):\n",
    "                if (i1+i2+i3+i4) == 16:\n",
    "                    count += 1\n",
    "print(count)                    "
   ]
  },
  {
   "cell_type": "code",
   "execution_count": 6,
   "id": "9b648cf0",
   "metadata": {},
   "outputs": [
    {
     "name": "stdout",
     "output_type": "stream",
     "text": [
      "35\n"
     ]
    }
   ],
   "source": [
    "count = 0\n",
    "\n",
    "for i1 in range(1,7):\n",
    "    for i2 in range(1,7):\n",
    "        for i3 in range(1,7):\n",
    "            for i4 in range(1,7):\n",
    "                if (i1+i2+i3+i4) == 8:\n",
    "                    count += 1\n",
    "print(count)   "
   ]
  },
  {
   "cell_type": "code",
   "execution_count": 9,
   "id": "9287d54d",
   "metadata": {},
   "outputs": [
    {
     "data": {
      "text/plain": [
       "26.833333333333332"
      ]
     },
     "execution_count": 9,
     "metadata": {},
     "output_type": "execute_result"
    }
   ],
   "source": [
    "161/6\n"
   ]
  },
  {
   "cell_type": "code",
   "execution_count": 15,
   "id": "60924500",
   "metadata": {},
   "outputs": [
    {
     "name": "stdout",
     "output_type": "stream",
     "text": [
      "True\n"
     ]
    }
   ],
   "source": [
    "def is_prime(n):\n",
    "    \"\"\"Return True if the given number is prime, False otherwise.\"\"\"\n",
    "    if n <= 1:\n",
    "        return False\n",
    "    elif n == 2:\n",
    "        return True\n",
    "    elif n % 2 == 0:\n",
    "        return False\n",
    "    else:\n",
    "        # check odd divisors from 3 to sqrt(n)\n",
    "        for i in range(3, int(n**0.5) + 1, 2):\n",
    "            if n % i == 0:\n",
    "                print(i)\n",
    "                return False\n",
    "        return True\n",
    "\n",
    "print(is_prime(97))"
   ]
  },
  {
   "cell_type": "code",
   "execution_count": 14,
   "id": "797af8ee",
   "metadata": {},
   "outputs": [
    {
     "data": {
      "text/plain": [
       "47.0"
      ]
     },
     "execution_count": 14,
     "metadata": {},
     "output_type": "execute_result"
    }
   ],
   "source": [
    "2021/43"
   ]
  },
  {
   "cell_type": "code",
   "execution_count": 18,
   "id": "5ad1e4ce",
   "metadata": {},
   "outputs": [
    {
     "name": "stdout",
     "output_type": "stream",
     "text": [
      "4.321928094887363\n"
     ]
    }
   ],
   "source": [
    "import numpy as np\n",
    "a= np.log(20)/np.log(2)\n",
    "print(a)"
   ]
  },
  {
   "cell_type": "code",
   "execution_count": 19,
   "id": "adedaa73",
   "metadata": {},
   "outputs": [
    {
     "data": {
      "text/plain": [
       "3.912023005428146"
      ]
     },
     "execution_count": 19,
     "metadata": {},
     "output_type": "execute_result"
    }
   ],
   "source": [
    "np.log(50)"
   ]
  },
  {
   "cell_type": "code",
   "execution_count": 20,
   "id": "c1eea0a1",
   "metadata": {},
   "outputs": [
    {
     "data": {
      "text/plain": [
       "5.0625"
      ]
     },
     "execution_count": 20,
     "metadata": {},
     "output_type": "execute_result"
    }
   ],
   "source": [
    "1.5*1.5*1.5*1.5"
   ]
  },
  {
   "cell_type": "code",
   "execution_count": 21,
   "id": "4d980b8d",
   "metadata": {},
   "outputs": [
    {
     "data": {
      "text/plain": [
       "0.29941830900000005"
      ]
     },
     "execution_count": 21,
     "metadata": {},
     "output_type": "execute_result"
    }
   ],
   "source": [
    "0.669*0.669*0.669"
   ]
  },
  {
   "cell_type": "code",
   "execution_count": 23,
   "id": "f76f27ed",
   "metadata": {},
   "outputs": [
    {
     "data": {
      "text/plain": [
       "-6200.518333333333"
      ]
     },
     "execution_count": 23,
     "metadata": {},
     "output_type": "execute_result"
    }
   ],
   "source": [
    "-74406.22/12288*1024"
   ]
  },
  {
   "cell_type": "code",
   "execution_count": 24,
   "id": "6fc6ff73",
   "metadata": {},
   "outputs": [
    {
     "data": {
      "text/plain": [
       "-6202.2669166666665"
      ]
     },
     "execution_count": 24,
     "metadata": {},
     "output_type": "execute_result"
    }
   ],
   "source": [
    "-74427.203/12288*1024"
   ]
  },
  {
   "cell_type": "code",
   "execution_count": 25,
   "id": "54e1a1ea",
   "metadata": {},
   "outputs": [
    {
     "data": {
      "text/plain": [
       "-6243.083333333333"
      ]
     },
     "execution_count": 25,
     "metadata": {},
     "output_type": "execute_result"
    }
   ],
   "source": []
  },
  {
   "cell_type": "code",
   "execution_count": null,
   "id": "d888a25c",
   "metadata": {},
   "outputs": [],
   "source": []
  }
 ],
 "metadata": {
  "kernelspec": {
   "display_name": "Python 3 (ipykernel)",
   "language": "python",
   "name": "python3"
  },
  "language_info": {
   "codemirror_mode": {
    "name": "ipython",
    "version": 3
   },
   "file_extension": ".py",
   "mimetype": "text/x-python",
   "name": "python",
   "nbconvert_exporter": "python",
   "pygments_lexer": "ipython3",
   "version": "3.9.7"
  }
 },
 "nbformat": 4,
 "nbformat_minor": 5
}
